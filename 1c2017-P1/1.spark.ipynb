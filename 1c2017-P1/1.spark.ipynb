{
 "cells": [
  {
   "cell_type": "markdown",
   "metadata": {},
   "source": [
    "# Enunciado"
   ]
  },
  {
   "cell_type": "markdown",
   "metadata": {},
   "source": [
    "1)  Se  tiene  información  estadística  de  la  temporada \n",
    "regular  de  todos  los \n",
    "jugadores   de   la   NBA   en   un   RDD   de   tuplas   con   el   siguiente   formato: \n",
    "`(id_jugador, nombre, promedio_puntos, promedio_asistencias, promedio_robos, \n",
    "promedio_bloqueos,  promedio_rebotes,  promedio_faltas)`.  Un  analista  de  la \n",
    "cadena ESPN  está  tra\n",
    "bajando  con  un  RDD que corresponde  a  la primera  ronda \n",
    "de playoffs y que tiene el siguiente formato: `(id_jugador, id_partido, timestamp, \n",
    "cantidad_puntos, \n",
    "cantidad_rebotes, \n",
    "cantidad_bloqueos, \n",
    "cantidad_robos, \n",
    "cantidad_asistencias,   cantidad_faltas)`.   En   base   a \n",
    "estos   RDDs   se   quiere \n",
    "programar  en  PySpark  un  programa  que  **genere  un  RDD  con  los  nombres  (sin \n",
    "duplicados)  de  los  jugadores  que  lograron  en  algún  partido  de  playoffs  una \n",
    "cantidad de asistencias mayor a su promedio histórico**.  (\\*\\*\\*\\*) (15 pts)"
   ]
  },
  {
   "cell_type": "markdown",
   "metadata": {},
   "source": [
    "---"
   ]
  },
  {
   "cell_type": "markdown",
   "metadata": {},
   "source": [
    "# Pasamos rdd a formato (K,V)"
   ]
  },
  {
   "cell_type": "markdown",
   "metadata": {},
   "source": [
    "No quedamos con `(id_jugador,(nombre,promedio_asistencias))` del rdd de promedios:\n",
    "\n",
    "```\n",
    "promedios_rdd = promedios_rdd.map(lambda x: (x[0],(x[1],x[3]))\n",
    "```\n",
    "\n",
    "Nos quedamos con `(id_jugador,cantidad_asistencias)` del rdd de playoffs:\n",
    "\n",
    "```\n",
    "playoffs_rdd = playoffs_rdd.map(lambda x: (x[0],x[7]))\n",
    "```"
   ]
  },
  {
   "cell_type": "markdown",
   "metadata": {},
   "source": [
    "# Hacemos el join"
   ]
  },
  {
   "cell_type": "markdown",
   "metadata": {},
   "source": [
    "```\n",
    "rdd = playoffs_rdd.left_join(promedios_rdd)\n",
    "```\n",
    "\n",
    "Hacemos un `left_join` ya que el rdd con más información es el de playoffs (más cantidad de registros).\n",
    "Si lo hacemos para el otro lado, perdemos bastantes registros.\n",
    "\n",
    "La estructura nos queda de la forma: `(id_jugador,(cantidad_asistencias,(nombre,promedio_asistencias)))`."
   ]
  },
  {
   "cell_type": "markdown",
   "metadata": {},
   "source": [
    "# Filtramos los datos"
   ]
  },
  {
   "cell_type": "markdown",
   "metadata": {},
   "source": [
    "Nos quedamos con los que tienen más asistencias que su promedio:\n",
    "\n",
    "```\n",
    "rdd = rdd.filter(rdd[1][0] > rdd[1][1][1])\n",
    "```"
   ]
  },
  {
   "cell_type": "markdown",
   "metadata": {},
   "source": [
    "# Obtenemos los nombres"
   ]
  },
  {
   "cell_type": "markdown",
   "metadata": {},
   "source": [
    "```\n",
    "rdd = rdd.reduceByKey(lambda x,y: x)\n",
    "         .map(lambda x: x[1][1][0])\n",
    "         .collect()\n",
    "```"
   ]
  },
  {
   "cell_type": "code",
   "execution_count": null,
   "metadata": {},
   "outputs": [],
   "source": []
  }
 ],
 "metadata": {
  "kernelspec": {
   "display_name": "Python 3",
   "language": "python",
   "name": "python3"
  },
  "language_info": {
   "codemirror_mode": {
    "name": "ipython",
    "version": 3
   },
   "file_extension": ".py",
   "mimetype": "text/x-python",
   "name": "python",
   "nbconvert_exporter": "python",
   "pygments_lexer": "ipython3",
   "version": "3.5.2"
  }
 },
 "nbformat": 4,
 "nbformat_minor": 2
}
