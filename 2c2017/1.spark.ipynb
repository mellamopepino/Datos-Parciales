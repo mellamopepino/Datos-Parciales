{
 "cells": [
  {
   "cell_type": "markdown",
   "metadata": {},
   "source": [
    "# Enunciado"
   ]
  },
  {
   "cell_type": "markdown",
   "metadata": {},
   "source": [
    "1)   Se cuenta con un RDD con información sobre patentamiento\n",
    "s \n",
    "de autos con la siguiente información `(patente, marca, modelo, \n",
    "versión, tipo_vehiculo, provincia, fecha)`, donde `tipo_vehiculo`\n",
    "indica si la unidad patentada es auto, pickup, camión o moto. \n",
    "Se pide generar un programa en pySpark que **indique la marca y \n",
    "modelo del auto más patentado por tipo de vehículo en la pro\n",
    "vincia \n",
    "de Buenos Aires en el mes de Abril de 2017**. (\\*\\*\\*) (15 pts)"
   ]
  },
  {
   "cell_type": "markdown",
   "metadata": {},
   "source": [
    "---"
   ]
  },
  {
   "cell_type": "markdown",
   "metadata": {},
   "source": [
    "# Filtramos los datos"
   ]
  },
  {
   "cell_type": "markdown",
   "metadata": {},
   "source": [
    "Nos quedamos con los datos de la provincia de Buenos Aires en el mes de Abril de 2017:\n",
    "\n",
    "```\n",
    "patentes_rdd = patentes_rdd.filter(patentes_rdd[5] == 'Buenos Aires')\n",
    "                           .filter(patentes_rdd[6].contains('2017-04'))\n",
    "```\n",
    "\n",
    "Supusimos que el formato de `fecha` era de `YYYY-MM-DD`"
   ]
  },
  {
   "cell_type": "markdown",
   "metadata": {},
   "source": [
    "# Pasamos a formato (K,V)"
   ]
  },
  {
   "cell_type": "markdown",
   "metadata": {},
   "source": [
    "Como nos piden información por tipo de vehículo hacemos de `tipo_vehiculo` parte del value.\n",
    "Por otra parte como queremos saber la cantidad de patentados por marca y modelo de los autos hacemos del key `('marca','modelo')`.\n",
    "Por último hacemos parte del value un 1 por registro para sacar la cantidad por auto.\n",
    "\n",
    "```\n",
    "patentes_rdd = patentes_rdd.map(lambda x: ((x[1],x[2]),(x[4]),1)))\n",
    "```\n",
    "\n",
    "La estructura final nos queda de la forma: `(('marca','modelo'),('tipo_vehiculo',1))`"
   ]
  },
  {
   "cell_type": "markdown",
   "metadata": {},
   "source": [
    "# Contamos la cantidad de patentados por auto (marca, modelo)"
   ]
  },
  {
   "cell_type": "markdown",
   "metadata": {},
   "source": [
    "Tenemos que contar la cantidad por clave, por lo que podemos usar un `reduceByKey`.\n",
    "Ahora bien, más adelante nos va a interesar trabajar con el tipo de vehiculo como key, así que aprovechamos y lo ponemos como key, pasando a (marca,modelo) a value. Lo mantenemos porque después nos pide devolver esta información.\n",
    "\n",
    "```\n",
    "patentes_rdd = patentes_rdd.reduceByKey(lambda x,y: (x[1][0],(x[0],x[1][1]+y[1][1])))\n",
    "```\n",
    "\n",
    "La estructura que nos queda es de la forma: `('tipo_vehiculo',(('marca´,'modelo'),cantidad))`"
   ]
  },
  {
   "cell_type": "markdown",
   "metadata": {},
   "source": [
    "# Obtenemos (marca,modelo) del más patentado por tipo de vehículo"
   ]
  },
  {
   "cell_type": "markdown",
   "metadata": {},
   "source": [
    "```\n",
    "patente_rdd.reduceByKey(lambda x,y: (x[0],x[1][0]) if (x[1][1] > y[1][1]) else (x[0],y[1][0]))\\\n",
    "           .collect()\n",
    "```\n",
    "\n",
    "Lo que estamos devolviendo tiene el formato: `('tipo_vehiculo',('marca','modelo'))`"
   ]
  }
 ],
 "metadata": {
  "kernelspec": {
   "display_name": "Python 3",
   "language": "python",
   "name": "python3"
  },
  "language_info": {
   "codemirror_mode": {
    "name": "ipython",
    "version": 3
   },
   "file_extension": ".py",
   "mimetype": "text/x-python",
   "name": "python",
   "nbconvert_exporter": "python",
   "pygments_lexer": "ipython3",
   "version": "3.5.2"
  }
 },
 "nbformat": 4,
 "nbformat_minor": 2
}
