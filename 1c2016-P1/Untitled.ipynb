{
 "cells": [
  {
   "cell_type": "code",
   "execution_count": null,
   "metadata": {},
   "outputs": [],
   "source": [
    "%matplotlib inline\n",
    "\n",
    "import pandas as pd\n",
    "from matplotlib import pyplot as plt"
   ]
  },
  {
   "cell_type": "markdown",
   "metadata": {},
   "source": [
    "# Enunciado"
   ]
  },
  {
   "cell_type": "markdown",
   "metadata": {},
   "source": [
    "2) \n",
    "Dados los archivos:\n",
    "- Notas (Padron, Codigo de Materia, Codigo de Curso, Nota)\n",
    "- Cursos (Codigo de Materia, Nombre de Materia, Codigo de Curso, -\n",
    "Profesor a Cargo)\n",
    "Hacer un programa en PIG (pandas ingenieria gonzalo) que liste para cada curso de cada materia, el\n",
    "promedio de notas de los alumnos que aprobaron la misma. El listado\n",
    "debe contener Codigo de Materia, Codigo de Curso, Profesor a cargo y\n",
    "Promedio de Notas, y debe estar ordenado por materia. Tener en cuenta\n",
    "solo los cursos que tengan al menos 100 alumnos aprobados.\n",
    "aero. (\\*\\*\\*) (15 pts)"
   ]
  },
  {
   "cell_type": "markdown",
   "metadata": {},
   "source": [
    "# Creación de datos"
   ]
  },
  {
   "cell_type": "code",
   "execution_count": null,
   "metadata": {},
   "outputs": [],
   "source": [
    "d = {'padron': [1,2,2,3,9], 'codigo_materia': [63,40,63,35,63], 'codigo_curso': [1,2,3,4,3], 'nota': [2,4,9,5,10]}\n",
    "notas = pd.DataFrame(d)\n",
    "notas"
   ]
  },
  {
   "cell_type": "code",
   "execution_count": null,
   "metadata": {},
   "outputs": [],
   "source": [
    "d = {'codigo_materia': [63,35,63,40], 'nombre_materia': ['GILADAS','ALGO3','GILADAS','TU VIEJA'], 'codigo_curso': [1,4,3,2], 'profesor': ['TU VIEJA','TU VIEJA','TU VIEJA','TU VIEJA']}\n",
    "cursos = pd.DataFrame(d)\n",
    "cursos"
   ]
  },
  {
   "cell_type": "markdown",
   "metadata": {},
   "source": [
    "# Juntamos matrices"
   ]
  },
  {
   "cell_type": "code",
   "execution_count": null,
   "metadata": {},
   "outputs": [],
   "source": [
    "joined = notas.join(cursos.set_index(['codigo_materia', 'codigo_curso']), on = ['codigo_materia', 'codigo_curso'])\n",
    "joined"
   ]
  },
  {
   "cell_type": "code",
   "execution_count": null,
   "metadata": {},
   "outputs": [],
   "source": [
    "merged = notas.merge(cursos, how='left', on=[''])"
   ]
  },
  {
   "cell_type": "markdown",
   "metadata": {},
   "source": [
    "# Nos quedamos con los que aprobaron"
   ]
  },
  {
   "cell_type": "code",
   "execution_count": null,
   "metadata": {},
   "outputs": [],
   "source": [
    "aprobados = joined.loc[joined.nota > 3]\n",
    "aprobados['cantidad'] = 1"
   ]
  },
  {
   "cell_type": "code",
   "execution_count": null,
   "metadata": {},
   "outputs": [],
   "source": [
    "grouped = aprobados.groupby(['codigo_materia','codigo_curso']).agg({'nota':'mean', 'profesor': lambda x: x, 'cantidad':'sum'})\n",
    "grouped.loc[grouped['cantidad']>2]"
   ]
  },
  {
   "cell_type": "code",
   "execution_count": null,
   "metadata": {},
   "outputs": [],
   "source": []
  }
 ],
 "metadata": {
  "kernelspec": {
   "display_name": "Python 3",
   "language": "python",
   "name": "python3"
  },
  "language_info": {
   "codemirror_mode": {
    "name": "ipython",
    "version": 3
   },
   "file_extension": ".py",
   "mimetype": "text/x-python",
   "name": "python",
   "nbconvert_exporter": "python",
   "pygments_lexer": "ipython3",
   "version": "3.5.2"
  }
 },
 "nbformat": 4,
 "nbformat_minor": 2
}
