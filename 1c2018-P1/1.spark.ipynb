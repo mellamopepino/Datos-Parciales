{
 "cells": [
  {
   "cell_type": "code",
   "execution_count": null,
   "metadata": {},
   "outputs": [],
   "source": [
    "import findspark\n",
    "findspark.init()\n",
    "\n",
    "import pyspark"
   ]
  },
  {
   "cell_type": "markdown",
   "metadata": {},
   "source": [
    "# Enunciado"
   ]
  },
  {
   "cell_type": "markdown",
   "metadata": {},
   "source": [
    "1)    Nintendo  of  America  (EEUU)  tiene \n",
    "información \n",
    "de  ventas  de  videojuegos \n",
    "físicas mensuales totalizadas en EEUU\n",
    "las  cuales  se  realizan  en  cadenas  de \n",
    "tiendas  de  videojuegos  en  el  siguiente \n",
    "RDD:  `(id_videojuego,  id_tienda,  mes, \n",
    "anio, total_ventas_mensuales)`.  \n",
    "Por  otro  lado  tenemos  un  RDD  con \n",
    "información  de  las  tiendas  y  de  su \n",
    "ubicación  `(id_tienda,  direccion,  latitud, \n",
    "longitud, \n",
    "codigo_postal, \n",
    "estado)`.\n",
    "Con   esta   información   escribir   un \n",
    "programa  en  pySpark  para  **obtener  la \n",
    "tienda  que  realizó  menor  cantidad  de \n",
    "ventas en el estado de “Georgia” en todo \n",
    "el año 2017**.   (\\*\\*\\*) (15 pts) "
   ]
  },
  {
   "cell_type": "markdown",
   "metadata": {},
   "source": [
    "---"
   ]
  },
  {
   "cell_type": "markdown",
   "metadata": {},
   "source": [
    "# Filtro a los datos que me interesan"
   ]
  },
  {
   "cell_type": "markdown",
   "metadata": {},
   "source": [
    "Me quedo con los datos de 2017 en el rdd de videojuegos:\n",
    "\n",
    "```\n",
    "videojuegos_rdd = videojuegos_rdd.filter(videojuegos_rdd.anio == 2017)\n",
    "```\n",
    "\n",
    "Me quedo con los datos de Georgia en el rdd de tiendas:\n",
    "\n",
    "```\n",
    "tiendas_rdd = tiendas_rdd.filter(tiendas_rdd.estado == 'Georgia')\n",
    "```"
   ]
  },
  {
   "cell_type": "markdown",
   "metadata": {},
   "source": [
    "# Paso rdds a formato (K,V)\n",
    "\n",
    "Es importante pasarlos a este formato **antes de hacer algún join**.\n",
    "De paso me quedo con los datos que me interesan.\n",
    "\n",
    "```\n",
    "videojuegos_rdd = videojuegos_rdd.map(lambda x: (x[1],x[4])) # ('id_tienda','total_ventas_mensuales')\n",
    "tiendas_rdd = tiendas_rdd.map(lambda x: (x[0],1))            # ('id_tienda',1)\n",
    "```"
   ]
  },
  {
   "cell_type": "markdown",
   "metadata": {},
   "source": [
    "# Realizo el join"
   ]
  },
  {
   "cell_type": "markdown",
   "metadata": {},
   "source": [
    "Hago un inner join, ya que me interesa aquellas tiendas que se encuentran en ambos rdd (cumplen las dos condiciones pedidas y además de que me interesan las que hicieron alguna venta nada más que son las que tengo en el rdd mal llamado `videojuegos_rdd`)\n",
    "\n",
    "```\n",
    "rdd = tiendas_rdd.join(videojuegos_rdd)\n",
    "```\n",
    "\n",
    "Nos devuelve un rdd con el formato: `('tienda_id,('total_ventas_mensuales',1))`"
   ]
  },
  {
   "cell_type": "markdown",
   "metadata": {},
   "source": [
    "# Obtengo la que realizó menor ventas"
   ]
  },
  {
   "cell_type": "markdown",
   "metadata": {},
   "source": [
    "**OJO**: nos piden la de menor ventas, por lo que vamos a usar un `reduce` por algún lado. **No ordenar según ventas y tomar el menor**"
   ]
  },
  {
   "cell_type": "markdown",
   "metadata": {},
   "source": [
    "```\n",
    "rdd.reduce(lambda x,y: x if (x[1][0] < y[1][0]) else y)\\\n",
    "   .collect()\n",
    "```\n",
    "\n",
    "No estoy segura de que esto está bien."
   ]
  },
  {
   "cell_type": "code",
   "execution_count": null,
   "metadata": {},
   "outputs": [],
   "source": []
  }
 ],
 "metadata": {
  "kernelspec": {
   "display_name": "Python 3",
   "language": "python",
   "name": "python3"
  },
  "language_info": {
   "codemirror_mode": {
    "name": "ipython",
    "version": 3
   },
   "file_extension": ".py",
   "mimetype": "text/x-python",
   "name": "python",
   "nbconvert_exporter": "python",
   "pygments_lexer": "ipython3",
   "version": "3.5.2"
  }
 },
 "nbformat": 4,
 "nbformat_minor": 2
}
