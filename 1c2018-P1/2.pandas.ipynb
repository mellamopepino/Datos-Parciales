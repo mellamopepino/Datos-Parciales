{
 "cells": [
  {
   "cell_type": "code",
   "execution_count": null,
   "metadata": {},
   "outputs": [],
   "source": [
    "%matplotlib inline\n",
    "\n",
    "import pandas as pd\n",
    "from matplotlib import pyplot as plt"
   ]
  },
  {
   "cell_type": "markdown",
   "metadata": {},
   "source": [
    "# Enunciado"
   ]
  },
  {
   "cell_type": "markdown",
   "metadata": {},
   "source": [
    "2)  (\\*\\*\\*\\*) (15 pts) El GCPD (Gotham City Police Dep\n",
    "t) recolecta la información de casos policiales que\n",
    " acontecen en \n",
    "Ciudad Gótica. Esta información se encuentra guarda\n",
    "da en un dataframe con el siguiente formato: \n",
    "(fecha, id_caso, \n",
    "descripcion, estado_caso, categoria, latitud, longi\n",
    "tud).  \n",
    "Los  posibles estados  que puede tener  un caso son 1:\n",
    " caso abierto, 2: caso  resuelto, 3: cerrado sin res\n",
    "olución.  Las \n",
    "fechas se encuentran en el formato YYYY-MM-DD. \n",
    "Por otro lado el comisionado Gordon guarda un regis\n",
    "tro detallado sobre en cuáles casos fue activada la\n",
    " batiseñal para \n",
    "pedir ayuda del vigilante, Batman. Esta información\n",
    " se encuentra en un Dataframe con el siguiente formato\n",
    " (id_caso, respuesta)\n",
    "siendo campo respuesta si la señal tuvo una respu\n",
    "esta positiva (1) o negativa (0) de parte de él \n",
    "El  sector  encargado  de  las  estadísticas  oficiales  d\n",
    "el  GCPD  quiere  con  esta  información\n",
    "analizar  las  siguientes situaciones: \n",
    "- Tasa de resolución de casos de la fuerza policial\n",
    " por categoría de caso (considerando aquellos casos\n",
    " en los que no \n",
    "participó Batman). \n",
    "- Tasa de resolución de casos con la ayuda de Batma\n",
    "n (considerando que aquellos casos en los que fue l\n",
    "lamado con la batiseñal, participó en la resolución).\n",
    "- Indicar el mes del año pasado en el que Batman tuvo\n",
    "mayor participación en la investigación de casos."
   ]
  },
  {
   "cell_type": "markdown",
   "metadata": {},
   "source": [
    "# A tener en cuenta previamente"
   ]
  },
  {
   "cell_type": "markdown",
   "metadata": {},
   "source": [
    "- Nos piden tres cosas diferentes. Si las tomamos como que las hacemos todas\n",
    "  es más eficiente hacer primero el join y después ir filtrando por lo que nos piden. Si los tomamos\n",
    "  por separado es más eficiente primero filtrar y después hacer el join."
   ]
  },
  {
   "cell_type": "markdown",
   "metadata": {},
   "source": [
    "---\n",
    "# Creación de los datos\n"
   ]
  },
  {
   "cell_type": "code",
   "execution_count": null,
   "metadata": {},
   "outputs": [],
   "source": [
    "d = {'fecha': ['2018-04-23', '2018-05-20', '2018-05-20'], 'id_caso': [1, 2, 3], 'descripcion': ['a', 'b', 'c'], 'estado_caso': [2, 2, 2], 'categoria': [1, 2, 3], 'latitud': [1, 2, 3], 'longitud': [1, 2, 3]}\n",
    "casos = pd.DataFrame(d)\n",
    "casos"
   ]
  },
  {
   "cell_type": "code",
   "execution_count": null,
   "metadata": {},
   "outputs": [],
   "source": [
    "d = {'id_caso': [1, 2], 'respuesta': [1, 0]}\n",
    "casos_batman = pd.DataFrame(d)\n",
    "casos_batman"
   ]
  },
  {
   "cell_type": "markdown",
   "metadata": {},
   "source": [
    "---\n",
    "# Tasa de resolución de casos por categoría de caso"
   ]
  },
  {
   "cell_type": "code",
   "execution_count": null,
   "metadata": {},
   "outputs": [],
   "source": [
    "casos['resuelto'] = casos['estado_caso'] == 2\n",
    "casos"
   ]
  },
  {
   "cell_type": "code",
   "execution_count": null,
   "metadata": {},
   "outputs": [],
   "source": [
    "casos.groupby('categoria').mean()"
   ]
  },
  {
   "cell_type": "code",
   "execution_count": null,
   "metadata": {},
   "outputs": [],
   "source": [
    "resueltos = casos.loc[casos.estado_caso == 2]\n",
    "resueltos"
   ]
  },
  {
   "cell_type": "code",
   "execution_count": null,
   "metadata": {},
   "outputs": [],
   "source": [
    "tasa_resueltos_por_categoria = resueltos['categoria'].value_counts(normalize = True)\n",
    "tasa_resueltos_por_categoria"
   ]
  },
  {
   "cell_type": "markdown",
   "metadata": {},
   "source": [
    "**La tasa la tenemos que calcular con respecto al total de casos**\n",
    "Como lo estamos haciendo acá, el resultado que obtenemos es el porcentaje de resueltos por categoría con\n",
    "respecto al total de casos resueltos!"
   ]
  },
  {
   "cell_type": "markdown",
   "metadata": {},
   "source": [
    "---\n",
    "# Tasa de resolución de casos con ayuda de Batman"
   ]
  },
  {
   "cell_type": "markdown",
   "metadata": {},
   "source": [
    "### Hacemos join con los casos"
   ]
  },
  {
   "cell_type": "code",
   "execution_count": null,
   "metadata": {},
   "outputs": [],
   "source": [
    "casos_join = pd.DataFrame()\n",
    "casos_join = casos.join(casos_batman.set_index('id_caso'), on = 'id_caso')\n",
    "casos_join"
   ]
  },
  {
   "cell_type": "markdown",
   "metadata": {},
   "source": [
    "- Tener en cuenta que el **join te settea a `how='left'`**, y como en el left tenemos el df de casos que tiene\n",
    " todos los casos totales, no perdemos información.\n",
    "- Ver que nos queda un NaN, ese es porque es un caso que no estaba en el df de casos_batman, entonces no se tenía la información de respuesta.\n",
    "- Si agarrabamos con `'right'` (`casos_batman`) perdemos todos aquellos casos que no están es este df\n",
    " Osea, que perdemos todos los casos en donde no se llamo a la batiseñal.\n",
    "- Se puede hacer con `merge` también, pero me es más lindo así. :)"
   ]
  },
  {
   "cell_type": "markdown",
   "metadata": {},
   "source": [
    "### Calculo tasa de resolución de casos con ayuda de batman"
   ]
  },
  {
   "cell_type": "code",
   "execution_count": null,
   "metadata": {},
   "outputs": [],
   "source": [
    "tasas = casos_join.respuesta.value_counts(normalize = True)\n",
    "tasas"
   ]
  },
  {
   "cell_type": "code",
   "execution_count": null,
   "metadata": {},
   "outputs": [],
   "source": [
    "print('La tasa de resolución de casos con ayuda de batman es: ' + str(tasas[1]))"
   ]
  },
  {
   "cell_type": "markdown",
   "metadata": {},
   "source": [
    "---\n",
    "# Mes con más ayuda de Batman"
   ]
  },
  {
   "cell_type": "code",
   "execution_count": null,
   "metadata": {},
   "outputs": [],
   "source": [
    "# Paso a timestamp fecha\n",
    "casos_join['fecha'] = pd.to_datetime(casos_join.fecha)"
   ]
  },
  {
   "cell_type": "code",
   "execution_count": null,
   "metadata": {},
   "outputs": [],
   "source": [
    "# Obtengo el mes\n",
    "casos_join['mes'] = casos_join.fecha.dt.month\n",
    "casos_join"
   ]
  },
  {
   "cell_type": "code",
   "execution_count": null,
   "metadata": {},
   "outputs": [],
   "source": [
    "casos_join.loc[casos_join.respuesta == 1].mes.value_counts()"
   ]
  },
  {
   "cell_type": "markdown",
   "metadata": {},
   "source": [
    "Se puede hacer con groupby?"
   ]
  },
  {
   "cell_type": "code",
   "execution_count": null,
   "metadata": {},
   "outputs": [],
   "source": []
  }
 ],
 "metadata": {
  "kernelspec": {
   "display_name": "Python 3",
   "language": "python",
   "name": "python3"
  },
  "language_info": {
   "codemirror_mode": {
    "name": "ipython",
    "version": 3
   },
   "file_extension": ".py",
   "mimetype": "text/x-python",
   "name": "python",
   "nbconvert_exporter": "python",
   "pygments_lexer": "ipython3",
   "version": "3.5.2"
  }
 },
 "nbformat": 4,
 "nbformat_minor": 2
}
