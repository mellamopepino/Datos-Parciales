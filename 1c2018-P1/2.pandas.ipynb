{
 "cells": [
  {
   "cell_type": "code",
   "execution_count": 1,
   "metadata": {},
   "outputs": [],
   "source": [
    "%matplotlib inline\n",
    "\n",
    "import pandas as pd\n",
    "from matplotlib import pyplot as plt"
   ]
  },
  {
   "cell_type": "markdown",
   "metadata": {},
   "source": [
    "# Enunciado"
   ]
  },
  {
   "cell_type": "markdown",
   "metadata": {},
   "source": [
    "2)  (\\*\\*\\*\\*) (15 pts) El GCPD (Gotham City Police Dep\n",
    "t) recolecta la información de casos policiales que\n",
    " acontecen en \n",
    "Ciudad Gótica. Esta información se encuentra guarda\n",
    "da en un dataframe con el siguiente formato: \n",
    "(fecha, id_caso, \n",
    "descripcion, estado_caso, categoria, latitud, longi\n",
    "tud).  \n",
    "Los  posibles estados  que puede tener  un caso son 1:\n",
    " caso abierto, 2: caso  resuelto, 3: cerrado sin res\n",
    "olución.  Las \n",
    "fechas se encuentran en el formato YYYY-MM-DD. \n",
    "Por otro lado el comisionado Gordon guarda un regis\n",
    "tro detallado sobre en cuáles casos fue activada la\n",
    " batiseñal para \n",
    "pedir ayuda del vigilante, Batman. Esta información\n",
    " se encuentra en un Dataframe con el siguiente formato\n",
    " (id_caso, respuesta)\n",
    "siendo campo respuesta si la señal tuvo una respu\n",
    "esta positiva (1) o negativa (0) de parte de él \n",
    "El  sector  encargado  de  las  estadísticas  oficiales  d\n",
    "el  GCPD  quiere  con  esta  información\n",
    "analizar  las  siguientes situaciones: \n",
    "- Tasa de resolución de casos de la fuerza policial\n",
    " por categoría de caso (considerando aquellos casos\n",
    " en los que no \n",
    "participó Batman). \n",
    "- Tasa de resolución de casos con la ayuda de Batma\n",
    "n (considerando que aquellos casos en los que fue l\n",
    "lamado con la batiseñal, participó en la resolución).\n",
    "- Indicar el mes del año pasado en el que Batman tuvo\n",
    "mayor participación en la investigación de casos."
   ]
  },
  {
   "cell_type": "markdown",
   "metadata": {},
   "source": [
    "# Creación de los datos"
   ]
  },
  {
   "cell_type": "code",
   "execution_count": 32,
   "metadata": {},
   "outputs": [
    {
     "data": {
      "text/html": [
       "<div>\n",
       "<style scoped>\n",
       "    .dataframe tbody tr th:only-of-type {\n",
       "        vertical-align: middle;\n",
       "    }\n",
       "\n",
       "    .dataframe tbody tr th {\n",
       "        vertical-align: top;\n",
       "    }\n",
       "\n",
       "    .dataframe thead th {\n",
       "        text-align: right;\n",
       "    }\n",
       "</style>\n",
       "<table border=\"1\" class=\"dataframe\">\n",
       "  <thead>\n",
       "    <tr style=\"text-align: right;\">\n",
       "      <th></th>\n",
       "      <th>categoria</th>\n",
       "      <th>descripcion</th>\n",
       "      <th>estado_caso</th>\n",
       "      <th>fecha</th>\n",
       "      <th>id_caso</th>\n",
       "      <th>latitud</th>\n",
       "      <th>longitud</th>\n",
       "    </tr>\n",
       "  </thead>\n",
       "  <tbody>\n",
       "    <tr>\n",
       "      <th>0</th>\n",
       "      <td>1</td>\n",
       "      <td>a</td>\n",
       "      <td>2</td>\n",
       "      <td>2018-04-23</td>\n",
       "      <td>1</td>\n",
       "      <td>1</td>\n",
       "      <td>1</td>\n",
       "    </tr>\n",
       "    <tr>\n",
       "      <th>1</th>\n",
       "      <td>2</td>\n",
       "      <td>b</td>\n",
       "      <td>2</td>\n",
       "      <td>2018-05-20</td>\n",
       "      <td>2</td>\n",
       "      <td>2</td>\n",
       "      <td>2</td>\n",
       "    </tr>\n",
       "    <tr>\n",
       "      <th>2</th>\n",
       "      <td>3</td>\n",
       "      <td>c</td>\n",
       "      <td>2</td>\n",
       "      <td>2018-05-20</td>\n",
       "      <td>3</td>\n",
       "      <td>3</td>\n",
       "      <td>3</td>\n",
       "    </tr>\n",
       "  </tbody>\n",
       "</table>\n",
       "</div>"
      ],
      "text/plain": [
       "   categoria descripcion  estado_caso       fecha  id_caso  latitud  longitud\n",
       "0          1           a            2  2018-04-23        1        1         1\n",
       "1          2           b            2  2018-05-20        2        2         2\n",
       "2          3           c            2  2018-05-20        3        3         3"
      ]
     },
     "execution_count": 32,
     "metadata": {},
     "output_type": "execute_result"
    }
   ],
   "source": [
    "d = {'fecha': ['2018-04-23', '2018-05-20', '2018-05-20'], 'id_caso': [1, 2, 3], 'descripcion': ['a', 'b', 'c'], 'estado_caso': [2, 2, 2], 'categoria': [1, 2, 3], 'latitud': [1, 2, 3], 'longitud': [1, 2, 3]}\n",
    "casos = pd.DataFrame(d)\n",
    "casos"
   ]
  },
  {
   "cell_type": "code",
   "execution_count": 25,
   "metadata": {},
   "outputs": [
    {
     "data": {
      "text/html": [
       "<div>\n",
       "<style scoped>\n",
       "    .dataframe tbody tr th:only-of-type {\n",
       "        vertical-align: middle;\n",
       "    }\n",
       "\n",
       "    .dataframe tbody tr th {\n",
       "        vertical-align: top;\n",
       "    }\n",
       "\n",
       "    .dataframe thead th {\n",
       "        text-align: right;\n",
       "    }\n",
       "</style>\n",
       "<table border=\"1\" class=\"dataframe\">\n",
       "  <thead>\n",
       "    <tr style=\"text-align: right;\">\n",
       "      <th></th>\n",
       "      <th>id_caso</th>\n",
       "      <th>respuesta</th>\n",
       "    </tr>\n",
       "  </thead>\n",
       "  <tbody>\n",
       "    <tr>\n",
       "      <th>0</th>\n",
       "      <td>1</td>\n",
       "      <td>1</td>\n",
       "    </tr>\n",
       "    <tr>\n",
       "      <th>1</th>\n",
       "      <td>2</td>\n",
       "      <td>0</td>\n",
       "    </tr>\n",
       "  </tbody>\n",
       "</table>\n",
       "</div>"
      ],
      "text/plain": [
       "   id_caso  respuesta\n",
       "0        1          1\n",
       "1        2          0"
      ]
     },
     "execution_count": 25,
     "metadata": {},
     "output_type": "execute_result"
    }
   ],
   "source": [
    "d = {'id_caso': [1, 2], 'respuesta': [1, 0]}\n",
    "casos_batman = pd.DataFrame(d)\n",
    "casos_batman"
   ]
  },
  {
   "cell_type": "markdown",
   "metadata": {},
   "source": [
    "# Tasa de resolución de casos por categoría de caso"
   ]
  },
  {
   "cell_type": "code",
   "execution_count": 26,
   "metadata": {},
   "outputs": [
    {
     "data": {
      "text/html": [
       "<div>\n",
       "<style scoped>\n",
       "    .dataframe tbody tr th:only-of-type {\n",
       "        vertical-align: middle;\n",
       "    }\n",
       "\n",
       "    .dataframe tbody tr th {\n",
       "        vertical-align: top;\n",
       "    }\n",
       "\n",
       "    .dataframe thead th {\n",
       "        text-align: right;\n",
       "    }\n",
       "</style>\n",
       "<table border=\"1\" class=\"dataframe\">\n",
       "  <thead>\n",
       "    <tr style=\"text-align: right;\">\n",
       "      <th></th>\n",
       "      <th>categoria</th>\n",
       "      <th>descripcion</th>\n",
       "      <th>estado_caso</th>\n",
       "      <th>fecha</th>\n",
       "      <th>id_caso</th>\n",
       "      <th>latitud</th>\n",
       "      <th>longitud</th>\n",
       "    </tr>\n",
       "  </thead>\n",
       "  <tbody>\n",
       "    <tr>\n",
       "      <th>0</th>\n",
       "      <td>1</td>\n",
       "      <td>a</td>\n",
       "      <td>2</td>\n",
       "      <td>2018-04-23</td>\n",
       "      <td>1</td>\n",
       "      <td>1</td>\n",
       "      <td>1</td>\n",
       "    </tr>\n",
       "    <tr>\n",
       "      <th>1</th>\n",
       "      <td>2</td>\n",
       "      <td>b</td>\n",
       "      <td>2</td>\n",
       "      <td>2018-05-20</td>\n",
       "      <td>2</td>\n",
       "      <td>2</td>\n",
       "      <td>2</td>\n",
       "    </tr>\n",
       "    <tr>\n",
       "      <th>2</th>\n",
       "      <td>3</td>\n",
       "      <td>c</td>\n",
       "      <td>2</td>\n",
       "      <td>2018-05-20</td>\n",
       "      <td>2</td>\n",
       "      <td>3</td>\n",
       "      <td>3</td>\n",
       "    </tr>\n",
       "  </tbody>\n",
       "</table>\n",
       "</div>"
      ],
      "text/plain": [
       "   categoria descripcion  estado_caso       fecha  id_caso  latitud  longitud\n",
       "0          1           a            2  2018-04-23        1        1         1\n",
       "1          2           b            2  2018-05-20        2        2         2\n",
       "2          3           c            2  2018-05-20        2        3         3"
      ]
     },
     "execution_count": 26,
     "metadata": {},
     "output_type": "execute_result"
    }
   ],
   "source": [
    "resueltos = casos.loc[casos.estado_caso == 2]\n",
    "resueltos"
   ]
  },
  {
   "cell_type": "code",
   "execution_count": 27,
   "metadata": {},
   "outputs": [
    {
     "data": {
      "text/plain": [
       "3    0.333333\n",
       "2    0.333333\n",
       "1    0.333333\n",
       "Name: categoria, dtype: float64"
      ]
     },
     "execution_count": 27,
     "metadata": {},
     "output_type": "execute_result"
    }
   ],
   "source": [
    "tasa_resueltos_por_categoria = resueltos['categoria'].value_counts(normalize = True)\n",
    "tasa_resueltos_por_categoria"
   ]
  },
  {
   "cell_type": "code",
   "execution_count": 28,
   "metadata": {},
   "outputs": [
    {
     "data": {
      "text/plain": [
       "array([ 0.33333333,  0.33333333,  0.33333333])"
      ]
     },
     "execution_count": 28,
     "metadata": {},
     "output_type": "execute_result"
    }
   ],
   "source": [
    "tasas = tasa_resueltos_por_categoria.values\n",
    "tasas"
   ]
  },
  {
   "cell_type": "code",
   "execution_count": 29,
   "metadata": {},
   "outputs": [
    {
     "data": {
      "text/plain": [
       "Int64Index([3, 2, 1], dtype='int64')"
      ]
     },
     "execution_count": 29,
     "metadata": {},
     "output_type": "execute_result"
    }
   ],
   "source": [
    "categorias = tasa_resueltos_por_categoria.index\n",
    "categorias"
   ]
  },
  {
   "cell_type": "code",
   "execution_count": 30,
   "metadata": {},
   "outputs": [
    {
     "name": "stdout",
     "output_type": "stream",
     "text": [
      "Categoría: 3 Tasa: 0.333333333333\n",
      "Categoría: 2 Tasa: 0.333333333333\n",
      "Categoría: 1 Tasa: 0.333333333333\n"
     ]
    }
   ],
   "source": [
    "for i in range(0, len(categorias)):\n",
    "    print('Categoría: ' + str(categorias[i]) + ' Tasa: ' + str(tasas[i]))"
   ]
  },
  {
   "cell_type": "markdown",
   "metadata": {},
   "source": [
    "# Tasa de resolución de casos con ayuda de Batman"
   ]
  },
  {
   "cell_type": "markdown",
   "metadata": {},
   "source": [
    "### Creamos columna de ayuda de batman en el df de casos"
   ]
  },
  {
   "cell_type": "code",
   "execution_count": 38,
   "metadata": {},
   "outputs": [
    {
     "data": {
      "text/html": [
       "<div>\n",
       "<style scoped>\n",
       "    .dataframe tbody tr th:only-of-type {\n",
       "        vertical-align: middle;\n",
       "    }\n",
       "\n",
       "    .dataframe tbody tr th {\n",
       "        vertical-align: top;\n",
       "    }\n",
       "\n",
       "    .dataframe thead th {\n",
       "        text-align: right;\n",
       "    }\n",
       "</style>\n",
       "<table border=\"1\" class=\"dataframe\">\n",
       "  <thead>\n",
       "    <tr style=\"text-align: right;\">\n",
       "      <th></th>\n",
       "      <th>categoria</th>\n",
       "      <th>descripcion</th>\n",
       "      <th>estado_caso</th>\n",
       "      <th>fecha</th>\n",
       "      <th>id_caso</th>\n",
       "      <th>latitud</th>\n",
       "      <th>longitud</th>\n",
       "      <th>respuesta</th>\n",
       "    </tr>\n",
       "  </thead>\n",
       "  <tbody>\n",
       "    <tr>\n",
       "      <th>0</th>\n",
       "      <td>1</td>\n",
       "      <td>a</td>\n",
       "      <td>2</td>\n",
       "      <td>2018-04-23</td>\n",
       "      <td>1</td>\n",
       "      <td>1</td>\n",
       "      <td>1</td>\n",
       "      <td>1.0</td>\n",
       "    </tr>\n",
       "    <tr>\n",
       "      <th>1</th>\n",
       "      <td>2</td>\n",
       "      <td>b</td>\n",
       "      <td>2</td>\n",
       "      <td>2018-05-20</td>\n",
       "      <td>2</td>\n",
       "      <td>2</td>\n",
       "      <td>2</td>\n",
       "      <td>0.0</td>\n",
       "    </tr>\n",
       "    <tr>\n",
       "      <th>2</th>\n",
       "      <td>3</td>\n",
       "      <td>c</td>\n",
       "      <td>2</td>\n",
       "      <td>2018-05-20</td>\n",
       "      <td>3</td>\n",
       "      <td>3</td>\n",
       "      <td>3</td>\n",
       "      <td>NaN</td>\n",
       "    </tr>\n",
       "  </tbody>\n",
       "</table>\n",
       "</div>"
      ],
      "text/plain": [
       "   categoria descripcion  estado_caso       fecha  id_caso  latitud  longitud  \\\n",
       "0          1           a            2  2018-04-23        1        1         1   \n",
       "1          2           b            2  2018-05-20        2        2         2   \n",
       "2          3           c            2  2018-05-20        3        3         3   \n",
       "\n",
       "   respuesta  \n",
       "0        1.0  \n",
       "1        0.0  \n",
       "2        NaN  "
      ]
     },
     "execution_count": 38,
     "metadata": {},
     "output_type": "execute_result"
    }
   ],
   "source": [
    "# Hacemos join con los casos\n",
    "casos_join = pd.DataFrame()\n",
    "# Tener en cuenta que el join te settea a how='left', y como en el left tenemos el df de casos que tiene\n",
    "# todos los casos totales, no perdemos información.\n",
    "# Si agarrabamos con right (casos_batman) perdemos todos aquellos casos que no están es este df\n",
    "# Osea, que perdemos todos los casos en donde no se llamo a la batiseñal.\n",
    "# Se puede hacer con merge también, pero me es más lindo así. :)\n",
    "casos_join = casos.join(casos_batman.set_index('id_caso'), on = 'id_caso')\n",
    "casos_join"
   ]
  },
  {
   "cell_type": "markdown",
   "metadata": {},
   "source": [
    "- Ver que nos queda un NaN, ese es porque es un caso que no estaba en el df de `casos_batman`, entonces\n",
    "no se tenía la información de `respuesta`.\n",
    "- Podemos hacer una columna en donde poner la información de si se llamo a la batiseñal o no. O\n",
    "  tal vez una que nos diga directamente si participó o no. La segunda es más útil para lo que nos piden.\n",
    "- Tener en cuenta que nos piden tres cosas diferentes. Si las tomamos como que las hacemos todas\n",
    "  es más eficiente hacer primero el join y después ir filtrando por lo que nos piden. Si los tomamos\n",
    "  por separado es más eficiente primero filtrar y después hacer el join."
   ]
  },
  {
   "cell_type": "code",
   "execution_count": 16,
   "metadata": {},
   "outputs": [],
   "source": [
    "# Saco id_casobatman\n",
    "#casos_join = casos_join.drop('id_casobatman', axis=1)\n",
    "#casos_join"
   ]
  },
  {
   "cell_type": "markdown",
   "metadata": {},
   "source": [
    "### Calculo tasa de resolución de casos con ayuda de batman"
   ]
  },
  {
   "cell_type": "code",
   "execution_count": 39,
   "metadata": {},
   "outputs": [
    {
     "data": {
      "text/plain": [
       "0.0    0.5\n",
       "1.0    0.5\n",
       "Name: respuesta, dtype: float64"
      ]
     },
     "execution_count": 39,
     "metadata": {},
     "output_type": "execute_result"
    }
   ],
   "source": [
    "tasas = casos_join.respuesta.value_counts(normalize = True)\n",
    "tasas"
   ]
  },
  {
   "cell_type": "code",
   "execution_count": 40,
   "metadata": {},
   "outputs": [
    {
     "name": "stdout",
     "output_type": "stream",
     "text": [
      "La tasa de resolución de casos con ayuda de batman es: 0.5\n"
     ]
    }
   ],
   "source": [
    "print('La tasa de resolución de casos con ayuda de batman es: ' + str(tasas[1]))"
   ]
  },
  {
   "cell_type": "markdown",
   "metadata": {},
   "source": [
    "# Mes con más ayuda de Batman"
   ]
  },
  {
   "cell_type": "code",
   "execution_count": 19,
   "metadata": {},
   "outputs": [],
   "source": [
    "# Paso a timestamp fecha\n",
    "casos_join['fecha'] = pd.to_datetime(casos_join.fecha)"
   ]
  },
  {
   "cell_type": "code",
   "execution_count": 20,
   "metadata": {},
   "outputs": [
    {
     "data": {
      "text/html": [
       "<div>\n",
       "<style scoped>\n",
       "    .dataframe tbody tr th:only-of-type {\n",
       "        vertical-align: middle;\n",
       "    }\n",
       "\n",
       "    .dataframe tbody tr th {\n",
       "        vertical-align: top;\n",
       "    }\n",
       "\n",
       "    .dataframe thead th {\n",
       "        text-align: right;\n",
       "    }\n",
       "</style>\n",
       "<table border=\"1\" class=\"dataframe\">\n",
       "  <thead>\n",
       "    <tr style=\"text-align: right;\">\n",
       "      <th></th>\n",
       "      <th>categoria</th>\n",
       "      <th>descripcion</th>\n",
       "      <th>estado_caso</th>\n",
       "      <th>fecha</th>\n",
       "      <th>latitud</th>\n",
       "      <th>longitud</th>\n",
       "      <th>respuesta</th>\n",
       "      <th>mes</th>\n",
       "    </tr>\n",
       "    <tr>\n",
       "      <th>id_caso</th>\n",
       "      <th></th>\n",
       "      <th></th>\n",
       "      <th></th>\n",
       "      <th></th>\n",
       "      <th></th>\n",
       "      <th></th>\n",
       "      <th></th>\n",
       "      <th></th>\n",
       "    </tr>\n",
       "  </thead>\n",
       "  <tbody>\n",
       "    <tr>\n",
       "      <th>1</th>\n",
       "      <td>1</td>\n",
       "      <td>a</td>\n",
       "      <td>2</td>\n",
       "      <td>2018-04-23</td>\n",
       "      <td>1</td>\n",
       "      <td>1</td>\n",
       "      <td>1</td>\n",
       "      <td>4</td>\n",
       "    </tr>\n",
       "    <tr>\n",
       "      <th>2</th>\n",
       "      <td>2</td>\n",
       "      <td>b</td>\n",
       "      <td>2</td>\n",
       "      <td>2018-05-20</td>\n",
       "      <td>2</td>\n",
       "      <td>2</td>\n",
       "      <td>0</td>\n",
       "      <td>5</td>\n",
       "    </tr>\n",
       "  </tbody>\n",
       "</table>\n",
       "</div>"
      ],
      "text/plain": [
       "         categoria descripcion  estado_caso      fecha  latitud  longitud  \\\n",
       "id_caso                                                                     \n",
       "1                1           a            2 2018-04-23        1         1   \n",
       "2                2           b            2 2018-05-20        2         2   \n",
       "\n",
       "         respuesta  mes  \n",
       "id_caso                  \n",
       "1                1    4  \n",
       "2                0    5  "
      ]
     },
     "execution_count": 20,
     "metadata": {},
     "output_type": "execute_result"
    }
   ],
   "source": [
    "# Obtengo el mes\n",
    "casos_join['mes'] = casos_join.fecha.dt.month\n",
    "casos_join"
   ]
  },
  {
   "cell_type": "code",
   "execution_count": 21,
   "metadata": {},
   "outputs": [
    {
     "data": {
      "text/plain": [
       "4    1\n",
       "Name: mes, dtype: int64"
      ]
     },
     "execution_count": 21,
     "metadata": {},
     "output_type": "execute_result"
    }
   ],
   "source": [
    "casos_join.loc[casos_join.respuesta == 1].mes.value_counts()"
   ]
  },
  {
   "cell_type": "markdown",
   "metadata": {},
   "source": [
    "Se puede hacer con groupby?"
   ]
  },
  {
   "cell_type": "code",
   "execution_count": 23,
   "metadata": {},
   "outputs": [
    {
     "name": "stdout",
     "output_type": "stream",
     "text": [
      "0    1\n",
      "1    2\n",
      "Name: categoria, dtype: object\n",
      "0    a\n",
      "1    b\n",
      "Name: descripcion, dtype: object\n",
      "0    2\n",
      "1    2\n",
      "Name: estado_caso, dtype: object\n",
      "0    2018-04-23\n",
      "1    2018-05-20\n",
      "Name: fecha, dtype: object\n",
      "0    1\n",
      "1    2\n",
      "Name: id_caso, dtype: object\n",
      "0    1\n",
      "1    2\n",
      "Name: latitud, dtype: object\n",
      "0    1\n",
      "1    2\n",
      "Name: longitud, dtype: object\n",
      "0    1\n",
      "1    0\n",
      "Name: respuesta, dtype: object\n"
     ]
    },
    {
     "data": {
      "text/plain": [
       "categoria      None\n",
       "descripcion    None\n",
       "estado_caso    None\n",
       "fecha          None\n",
       "id_caso        None\n",
       "latitud        None\n",
       "longitud       None\n",
       "respuesta      None\n",
       "dtype: object"
      ]
     },
     "execution_count": 23,
     "metadata": {},
     "output_type": "execute_result"
    }
   ],
   "source": [
    "casos_join[]"
   ]
  },
  {
   "cell_type": "code",
   "execution_count": null,
   "metadata": {},
   "outputs": [],
   "source": []
  }
 ],
 "metadata": {
  "kernelspec": {
   "display_name": "Python 3",
   "language": "python",
   "name": "python3"
  },
  "language_info": {
   "codemirror_mode": {
    "name": "ipython",
    "version": 3
   },
   "file_extension": ".py",
   "mimetype": "text/x-python",
   "name": "python",
   "nbconvert_exporter": "python",
   "pygments_lexer": "ipython3",
   "version": "3.5.2"
  }
 },
 "nbformat": 4,
 "nbformat_minor": 2
}
